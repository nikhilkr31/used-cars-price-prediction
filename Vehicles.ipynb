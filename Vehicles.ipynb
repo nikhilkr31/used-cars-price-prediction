{
 "cells": [
  {
   "cell_type": "markdown",
   "id": "092cfd34",
   "metadata": {},
   "source": [
    "## Data Understanding "
   ]
  },
  {
   "cell_type": "code",
   "execution_count": 104,
   "id": "99bda741",
   "metadata": {},
   "outputs": [],
   "source": [
    "#imports \n",
    "\n",
    "import pandas as pd\n",
    "import numpy as np\n",
    "from matplotlib import pyplot  as plt \n",
    "import seaborn as sns\n",
    "\n",
    "#stats\n",
    "from scipy.stats import iqr"
   ]
  },
  {
   "cell_type": "code",
   "execution_count": 105,
   "id": "2def59c2",
   "metadata": {},
   "outputs": [],
   "source": [
    "cars = pd.read_csv(\"data/vehicles.csv\")"
   ]
  },
  {
   "cell_type": "code",
   "execution_count": 106,
   "id": "574751d8",
   "metadata": {},
   "outputs": [
    {
     "data": {
      "text/html": [
       "<div>\n",
       "<style scoped>\n",
       "    .dataframe tbody tr th:only-of-type {\n",
       "        vertical-align: middle;\n",
       "    }\n",
       "\n",
       "    .dataframe tbody tr th {\n",
       "        vertical-align: top;\n",
       "    }\n",
       "\n",
       "    .dataframe thead th {\n",
       "        text-align: right;\n",
       "    }\n",
       "</style>\n",
       "<table border=\"1\" class=\"dataframe\">\n",
       "  <thead>\n",
       "    <tr style=\"text-align: right;\">\n",
       "      <th></th>\n",
       "      <th>id</th>\n",
       "      <th>region</th>\n",
       "      <th>price</th>\n",
       "      <th>year</th>\n",
       "      <th>manufacturer</th>\n",
       "      <th>model</th>\n",
       "      <th>condition</th>\n",
       "      <th>cylinders</th>\n",
       "      <th>fuel</th>\n",
       "      <th>odometer</th>\n",
       "      <th>title_status</th>\n",
       "      <th>transmission</th>\n",
       "      <th>VIN</th>\n",
       "      <th>drive</th>\n",
       "      <th>size</th>\n",
       "      <th>type</th>\n",
       "      <th>paint_color</th>\n",
       "      <th>state</th>\n",
       "    </tr>\n",
       "  </thead>\n",
       "  <tbody>\n",
       "    <tr>\n",
       "      <th>0</th>\n",
       "      <td>7222695916</td>\n",
       "      <td>prescott</td>\n",
       "      <td>6000</td>\n",
       "      <td>NaN</td>\n",
       "      <td>NaN</td>\n",
       "      <td>NaN</td>\n",
       "      <td>NaN</td>\n",
       "      <td>NaN</td>\n",
       "      <td>NaN</td>\n",
       "      <td>NaN</td>\n",
       "      <td>NaN</td>\n",
       "      <td>NaN</td>\n",
       "      <td>NaN</td>\n",
       "      <td>NaN</td>\n",
       "      <td>NaN</td>\n",
       "      <td>NaN</td>\n",
       "      <td>NaN</td>\n",
       "      <td>az</td>\n",
       "    </tr>\n",
       "    <tr>\n",
       "      <th>1</th>\n",
       "      <td>7218891961</td>\n",
       "      <td>fayetteville</td>\n",
       "      <td>11900</td>\n",
       "      <td>NaN</td>\n",
       "      <td>NaN</td>\n",
       "      <td>NaN</td>\n",
       "      <td>NaN</td>\n",
       "      <td>NaN</td>\n",
       "      <td>NaN</td>\n",
       "      <td>NaN</td>\n",
       "      <td>NaN</td>\n",
       "      <td>NaN</td>\n",
       "      <td>NaN</td>\n",
       "      <td>NaN</td>\n",
       "      <td>NaN</td>\n",
       "      <td>NaN</td>\n",
       "      <td>NaN</td>\n",
       "      <td>ar</td>\n",
       "    </tr>\n",
       "    <tr>\n",
       "      <th>2</th>\n",
       "      <td>7221797935</td>\n",
       "      <td>florida keys</td>\n",
       "      <td>21000</td>\n",
       "      <td>NaN</td>\n",
       "      <td>NaN</td>\n",
       "      <td>NaN</td>\n",
       "      <td>NaN</td>\n",
       "      <td>NaN</td>\n",
       "      <td>NaN</td>\n",
       "      <td>NaN</td>\n",
       "      <td>NaN</td>\n",
       "      <td>NaN</td>\n",
       "      <td>NaN</td>\n",
       "      <td>NaN</td>\n",
       "      <td>NaN</td>\n",
       "      <td>NaN</td>\n",
       "      <td>NaN</td>\n",
       "      <td>fl</td>\n",
       "    </tr>\n",
       "    <tr>\n",
       "      <th>3</th>\n",
       "      <td>7222270760</td>\n",
       "      <td>worcester / central MA</td>\n",
       "      <td>1500</td>\n",
       "      <td>NaN</td>\n",
       "      <td>NaN</td>\n",
       "      <td>NaN</td>\n",
       "      <td>NaN</td>\n",
       "      <td>NaN</td>\n",
       "      <td>NaN</td>\n",
       "      <td>NaN</td>\n",
       "      <td>NaN</td>\n",
       "      <td>NaN</td>\n",
       "      <td>NaN</td>\n",
       "      <td>NaN</td>\n",
       "      <td>NaN</td>\n",
       "      <td>NaN</td>\n",
       "      <td>NaN</td>\n",
       "      <td>ma</td>\n",
       "    </tr>\n",
       "    <tr>\n",
       "      <th>4</th>\n",
       "      <td>7210384030</td>\n",
       "      <td>greensboro</td>\n",
       "      <td>4900</td>\n",
       "      <td>NaN</td>\n",
       "      <td>NaN</td>\n",
       "      <td>NaN</td>\n",
       "      <td>NaN</td>\n",
       "      <td>NaN</td>\n",
       "      <td>NaN</td>\n",
       "      <td>NaN</td>\n",
       "      <td>NaN</td>\n",
       "      <td>NaN</td>\n",
       "      <td>NaN</td>\n",
       "      <td>NaN</td>\n",
       "      <td>NaN</td>\n",
       "      <td>NaN</td>\n",
       "      <td>NaN</td>\n",
       "      <td>nc</td>\n",
       "    </tr>\n",
       "  </tbody>\n",
       "</table>\n",
       "</div>"
      ],
      "text/plain": [
       "           id                  region  price  year manufacturer model  \\\n",
       "0  7222695916                prescott   6000   NaN          NaN   NaN   \n",
       "1  7218891961            fayetteville  11900   NaN          NaN   NaN   \n",
       "2  7221797935            florida keys  21000   NaN          NaN   NaN   \n",
       "3  7222270760  worcester / central MA   1500   NaN          NaN   NaN   \n",
       "4  7210384030              greensboro   4900   NaN          NaN   NaN   \n",
       "\n",
       "  condition cylinders fuel  odometer title_status transmission  VIN drive  \\\n",
       "0       NaN       NaN  NaN       NaN          NaN          NaN  NaN   NaN   \n",
       "1       NaN       NaN  NaN       NaN          NaN          NaN  NaN   NaN   \n",
       "2       NaN       NaN  NaN       NaN          NaN          NaN  NaN   NaN   \n",
       "3       NaN       NaN  NaN       NaN          NaN          NaN  NaN   NaN   \n",
       "4       NaN       NaN  NaN       NaN          NaN          NaN  NaN   NaN   \n",
       "\n",
       "  size type paint_color state  \n",
       "0  NaN  NaN         NaN    az  \n",
       "1  NaN  NaN         NaN    ar  \n",
       "2  NaN  NaN         NaN    fl  \n",
       "3  NaN  NaN         NaN    ma  \n",
       "4  NaN  NaN         NaN    nc  "
      ]
     },
     "execution_count": 106,
     "metadata": {},
     "output_type": "execute_result"
    }
   ],
   "source": [
    "cars.head()"
   ]
  },
  {
   "cell_type": "markdown",
   "id": "bc97b7c3",
   "metadata": {},
   "source": [
    "I can read a csv file lol."
   ]
  },
  {
   "cell_type": "markdown",
   "id": "eb6252f3",
   "metadata": {},
   "source": [
    "## Feature Engineering \n",
    "\n",
    "- 'id' doesn't provide any useful information "
   ]
  },
  {
   "cell_type": "code",
   "execution_count": 107,
   "id": "f90777ce",
   "metadata": {},
   "outputs": [],
   "source": [
    "# X = cars.drop(['id','region','price','model','title_status','transmission','VIN','size','state'],axis=1)\n",
    "# y = cars[['price']]"
   ]
  },
  {
   "cell_type": "code",
   "execution_count": 108,
   "id": "0ccdf6a1",
   "metadata": {},
   "outputs": [],
   "source": [
    "cars.drop(['id','region','model','title_status','transmission','VIN','size','state'],axis=1,inplace=True)"
   ]
  },
  {
   "cell_type": "code",
   "execution_count": 109,
   "id": "4793a089",
   "metadata": {},
   "outputs": [
    {
     "data": {
      "text/plain": [
       "0          6000\n",
       "1         11900\n",
       "2         21000\n",
       "3          1500\n",
       "4          4900\n",
       "          ...  \n",
       "426875    23590\n",
       "426876    30590\n",
       "426877    34990\n",
       "426878    28990\n",
       "426879    30590\n",
       "Name: price, Length: 426880, dtype: int64"
      ]
     },
     "execution_count": 109,
     "metadata": {},
     "output_type": "execute_result"
    }
   ],
   "source": [
    "cars.price.astype('int')"
   ]
  },
  {
   "cell_type": "code",
   "execution_count": 110,
   "id": "262e00df",
   "metadata": {},
   "outputs": [],
   "source": [
    "#Interquartile range of price \n",
    "#iqr(cars.price,rng=[10,90])\n",
    "\n",
    "# q90, q10 = np.percentile(cars['price'], [90 ,10])\n",
    "# print(q90-q10)"
   ]
  },
  {
   "cell_type": "code",
   "execution_count": 111,
   "id": "3aaa1ebc",
   "metadata": {},
   "outputs": [],
   "source": [
    "# iqr(cars.price,rng=[10,90])"
   ]
  },
  {
   "cell_type": "code",
   "execution_count": 112,
   "id": "baa82909",
   "metadata": {},
   "outputs": [
    {
     "data": {
      "text/plain": [
       "<AxesSubplot:xlabel='price'>"
      ]
     },
     "execution_count": 112,
     "metadata": {},
     "output_type": "execute_result"
    },
    {
     "data": {
      "image/png": "[encoded data removed]",
      "text/plain": [
       "<Figure size 864x576 with 2 Axes>"
      ]
     },
     "metadata": {
      "needs_background": "light"
     },
     "output_type": "display_data"
    }
   ],
   "source": [
    "plt.figure(figsize=(12,8))\n",
    "plt.subplot(121)\n",
    "sns.histplot(data=cars,x='price',bins=20)\n",
    "plt.subplot(122)\n",
    "sns.boxplot(data=cars,x='price')"
   ]
  },
  {
   "cell_type": "markdown",
   "id": "b975d8b3",
   "metadata": {},
   "source": [
    "The prices of the cars in our dataset are heavily skewed. Removing the outliers."
   ]
  },
  {
   "cell_type": "code",
   "execution_count": 113,
   "id": "6186dd46",
   "metadata": {},
   "outputs": [
    {
     "name": "stdout",
     "output_type": "stream",
     "text": [
      "Row count before: 426880\n",
      "Row count after: 342632\n"
     ]
    }
   ],
   "source": [
    "#Looking at the interquartile range of Price \n",
    "q90, q10 = np.percentile(cars['price'], [90 ,10])\n",
    "print('Row count before:',cars.shape[0])\n",
    "cars = cars[cars['price'].between(q10,q90)]\n",
    "print('Row count after:',cars.shape[0])"
   ]
  },
  {
   "cell_type": "code",
   "execution_count": 126,
   "id": "19899793",
   "metadata": {},
   "outputs": [
    {
     "data": {
      "text/plain": [
       "<AxesSubplot:xlabel='price'>"
      ]
     },
     "execution_count": 126,
     "metadata": {},
     "output_type": "execute_result"
    },
    {
     "data": {
      "image/png": "[encoded data removed]",
      "text/plain": [
       "<Figure size 864x576 with 2 Axes>"
      ]
     },
     "metadata": {
      "needs_background": "light"
     },
     "output_type": "display_data"
    }
   ],
   "source": [
    "#plotting prices again\n",
    "plt.figure(figsize=(12,8))\n",
    "plt.subplot(121)\n",
    "sns.histplot(data=cars,x='price',bins=20)\n",
    "plt.subplot(122)\n",
    "sns.boxplot(data=cars,x='price')"
   ]
  },
  {
   "cell_type": "code",
   "execution_count": null,
   "id": "67202f8b",
   "metadata": {},
   "outputs": [],
   "source": []
  }
 ],
 "metadata": {
  "kernelspec": {
   "display_name": "Python 3 (ipykernel)",
   "language": "python",
   "name": "python3"
  },
  "language_info": {
   "codemirror_mode": {
    "name": "ipython",
    "version": 3
   },
   "file_extension": ".py",
   "mimetype": "text/x-python",
   "name": "python",
   "nbconvert_exporter": "python",
   "pygments_lexer": "ipython3",
   "version": "3.10.4"
  }
 },
 "nbformat": 4,
 "nbformat_minor": 5
}
